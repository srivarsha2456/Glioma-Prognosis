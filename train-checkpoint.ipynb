{
 "cells": [
  {
   "cell_type": "code",
   "execution_count": 9,
   "metadata": {},
   "outputs": [],
   "source": [
    "import tensorflow as tf\n",
    "from tensorflow.keras.layers import Conv2D, MaxPooling2D, Flatten, Dense\n",
    "from tensorflow.keras.models import Sequential\n",
    "from tensorflow.keras.preprocessing.image import ImageDataGenerator\n",
    "from sklearn.metrics import confusion_matrix\n",
    "import numpy as np\n",
    "import matplotlib.pyplot as plt"
   ]
  },
  {
   "cell_type": "code",
   "execution_count": 10,
   "metadata": {},
   "outputs": [],
   "source": [
    "# Set the directories for the training and validation datasets\n",
    "train_dir = 'Braintumour/Train'\n",
    "val_dir = 'Braintumour/Test'"
   ]
  },
  {
   "cell_type": "code",
   "execution_count": 11,
   "metadata": {},
   "outputs": [],
   "source": [
    "# Set the parameters for the image preprocessing\n",
    "img_width, img_height = 224, 224\n",
    "batch_size = 32"
   ]
  },
  {
   "cell_type": "code",
   "execution_count": 12,
   "metadata": {},
   "outputs": [],
   "source": [
    "# Create data generators to preprocess the images\n",
    "train_datagen = ImageDataGenerator(rescale=1./255,\n",
    "                                   shear_range=0.2,\n",
    "                                   zoom_range=0.2,\n",
    "                                   horizontal_flip=True)\n",
    "val_datagen = ImageDataGenerator(rescale=1./255)"
   ]
  },
  {
   "cell_type": "code",
   "execution_count": 13,
   "metadata": {},
   "outputs": [
    {
     "name": "stdout",
     "output_type": "stream",
     "text": [
      "Found 255 images belonging to 2 classes.\n"
     ]
    }
   ],
   "source": [
    "train_generator = train_datagen.flow_from_directory(train_dir,\n",
    "                                                    target_size=(img_width, img_height),\n",
    "                                                    batch_size=batch_size,\n",
    "                                                    class_mode='categorical')"
   ]
  },
  {
   "cell_type": "code",
   "execution_count": 14,
   "metadata": {},
   "outputs": [
    {
     "name": "stdout",
     "output_type": "stream",
     "text": [
      "Found 154 images belonging to 2 classes.\n"
     ]
    }
   ],
   "source": [
    "val_generator = val_datagen.flow_from_directory(val_dir,\n",
    "                                                target_size=(img_width, img_height),\n",
    "                                                batch_size=batch_size,\n",
    "                                                class_mode='categorical')"
   ]
  },
  {
   "cell_type": "code",
   "execution_count": 15,
   "metadata": {},
   "outputs": [],
   "source": [
    "# Define the CNN architecture\n",
    "model = Sequential([\n",
    "    Conv2D(32, (3, 3), activation='relu', input_shape=(img_width, img_height, 3)),\n",
    "    MaxPooling2D((2, 2)),\n",
    "    Conv2D(64, (3, 3), activation='relu'),\n",
    "    MaxPooling2D((2, 2)),\n",
    "    Conv2D(128, (3, 3), activation='relu'),\n",
    "    MaxPooling2D((2, 2)),\n",
    "    Flatten(),\n",
    "    Dense(128, activation='relu'),\n",
    "    Dense(2, activation='softmax')\n",
    "])"
   ]
  },
  {
   "cell_type": "code",
   "execution_count": 16,
   "metadata": {},
   "outputs": [
    {
     "name": "stdout",
     "output_type": "stream",
     "text": [
      "Model: \"sequential_1\"\n",
      "_________________________________________________________________\n",
      "Layer (type)                 Output Shape              Param #   \n",
      "=================================================================\n",
      "conv2d_3 (Conv2D)            (None, 222, 222, 32)      896       \n",
      "_________________________________________________________________\n",
      "max_pooling2d_3 (MaxPooling2 (None, 111, 111, 32)      0         \n",
      "_________________________________________________________________\n",
      "conv2d_4 (Conv2D)            (None, 109, 109, 64)      18496     \n",
      "_________________________________________________________________\n",
      "max_pooling2d_4 (MaxPooling2 (None, 54, 54, 64)        0         \n",
      "_________________________________________________________________\n",
      "conv2d_5 (Conv2D)            (None, 52, 52, 128)       73856     \n",
      "_________________________________________________________________\n",
      "max_pooling2d_5 (MaxPooling2 (None, 26, 26, 128)       0         \n",
      "_________________________________________________________________\n",
      "flatten_1 (Flatten)          (None, 86528)             0         \n",
      "_________________________________________________________________\n",
      "dense_2 (Dense)              (None, 128)               11075712  \n",
      "_________________________________________________________________\n",
      "dense_3 (Dense)              (None, 2)                 258       \n",
      "=================================================================\n",
      "Total params: 11,169,218\n",
      "Trainable params: 11,169,218\n",
      "Non-trainable params: 0\n",
      "_________________________________________________________________\n"
     ]
    }
   ],
   "source": [
    "model.summary()"
   ]
  },
  {
   "cell_type": "code",
   "execution_count": 17,
   "metadata": {},
   "outputs": [],
   "source": [
    "# Compile the model\n",
    "model.compile(optimizer='adam',\n",
    "              loss='categorical_crossentropy',\n",
    "              metrics=['accuracy'])"
   ]
  },
  {
   "cell_type": "code",
   "execution_count": 18,
   "metadata": {},
   "outputs": [
    {
     "name": "stdout",
     "output_type": "stream",
     "text": [
      "Epoch 1/100\n",
      "7/8 [=========================>....] - ETA: 1s - loss: 1.1234 - acc: 0.5919Epoch 1/100\n",
      "8/8 [==============================] - 11s 1s/step - loss: 1.0622 - acc: 0.6157 - val_loss: 0.6266 - val_acc: 0.7013\n",
      "Epoch 2/100\n",
      "7/8 [=========================>....] - ETA: 0s - loss: 0.6111 - acc: 0.7444Epoch 1/100\n",
      "8/8 [==============================] - 9s 1s/step - loss: 0.6001 - acc: 0.7412 - val_loss: 0.5480 - val_acc: 0.7273\n",
      "Epoch 3/100\n",
      "7/8 [=========================>....] - ETA: 1s - loss: 0.5725 - acc: 0.7354Epoch 1/100\n",
      "8/8 [==============================] - 9s 1s/step - loss: 0.5737 - acc: 0.7412 - val_loss: 0.5968 - val_acc: 0.7468\n",
      "Epoch 4/100\n",
      "7/8 [=========================>....] - ETA: 0s - loss: 0.5240 - acc: 0.7265Epoch 1/100\n",
      "8/8 [==============================] - 9s 1s/step - loss: 0.5261 - acc: 0.7255 - val_loss: 0.5263 - val_acc: 0.7597\n",
      "Epoch 5/100\n",
      "7/8 [=========================>....] - ETA: 0s - loss: 0.5221 - acc: 0.7634Epoch 1/100\n",
      "8/8 [==============================] - 9s 1s/step - loss: 0.5238 - acc: 0.7608 - val_loss: 0.4871 - val_acc: 0.7857\n",
      "Epoch 6/100\n",
      "7/8 [=========================>....] - ETA: 0s - loss: 0.5151 - acc: 0.7399Epoch 1/100\n",
      "8/8 [==============================] - 9s 1s/step - loss: 0.5026 - acc: 0.7490 - val_loss: 0.4501 - val_acc: 0.8117\n",
      "Epoch 7/100\n",
      "7/8 [=========================>....] - ETA: 0s - loss: 0.4883 - acc: 0.7713Epoch 1/100\n",
      "8/8 [==============================] - 9s 1s/step - loss: 0.4840 - acc: 0.7765 - val_loss: 0.4412 - val_acc: 0.7922\n",
      "Epoch 8/100\n",
      "7/8 [=========================>....] - ETA: 0s - loss: 0.4799 - acc: 0.7982Epoch 1/100\n",
      "8/8 [==============================] - 9s 1s/step - loss: 0.4826 - acc: 0.8000 - val_loss: 0.3779 - val_acc: 0.8182\n",
      "Epoch 9/100\n",
      "7/8 [=========================>....] - ETA: 0s - loss: 0.4797 - acc: 0.7623Epoch 1/100\n",
      "8/8 [==============================] - 9s 1s/step - loss: 0.4717 - acc: 0.7686 - val_loss: 0.4370 - val_acc: 0.8377\n",
      "Epoch 10/100\n",
      "7/8 [=========================>....] - ETA: 0s - loss: 0.4289 - acc: 0.8475Epoch 1/100\n",
      "8/8 [==============================] - 9s 1s/step - loss: 0.4236 - acc: 0.8353 - val_loss: 0.3457 - val_acc: 0.8442\n",
      "Epoch 11/100\n",
      "7/8 [=========================>....] - ETA: 0s - loss: 0.4220 - acc: 0.7982Epoch 1/100\n",
      "8/8 [==============================] - 9s 1s/step - loss: 0.4207 - acc: 0.7922 - val_loss: 0.3341 - val_acc: 0.8636\n",
      "Epoch 12/100\n",
      "7/8 [=========================>....] - ETA: 0s - loss: 0.3783 - acc: 0.8475Epoch 1/100\n",
      "8/8 [==============================] - 9s 1s/step - loss: 0.3860 - acc: 0.8471 - val_loss: 0.3200 - val_acc: 0.8961\n",
      "Epoch 13/100\n",
      "7/8 [=========================>....] - ETA: 0s - loss: 0.4042 - acc: 0.8341Epoch 1/100\n",
      "8/8 [==============================] - 9s 1s/step - loss: 0.3772 - acc: 0.8549 - val_loss: 0.3013 - val_acc: 0.9026\n",
      "Epoch 14/100\n",
      "7/8 [=========================>....] - ETA: 0s - loss: 0.3702 - acc: 0.8430Epoch 1/100\n",
      "8/8 [==============================] - 9s 1s/step - loss: 0.3541 - acc: 0.8549 - val_loss: 0.3322 - val_acc: 0.8766\n",
      "Epoch 15/100\n",
      "7/8 [=========================>....] - ETA: 0s - loss: 0.3283 - acc: 0.8744Epoch 1/100\n",
      "8/8 [==============================] - 9s 1s/step - loss: 0.3112 - acc: 0.8824 - val_loss: 0.3112 - val_acc: 0.8766\n",
      "Epoch 16/100\n",
      "7/8 [=========================>....] - ETA: 0s - loss: 0.2945 - acc: 0.8834Epoch 1/100\n",
      "8/8 [==============================] - 9s 1s/step - loss: 0.2991 - acc: 0.8784 - val_loss: 0.2658 - val_acc: 0.8896\n",
      "Epoch 17/100\n",
      "7/8 [=========================>....] - ETA: 0s - loss: 0.2950 - acc: 0.8700Epoch 1/100\n",
      "8/8 [==============================] - 9s 1s/step - loss: 0.2993 - acc: 0.8706 - val_loss: 0.2230 - val_acc: 0.9156\n",
      "Epoch 18/100\n",
      "7/8 [=========================>....] - ETA: 0s - loss: 0.2884 - acc: 0.9058Epoch 1/100\n",
      "8/8 [==============================] - 9s 1s/step - loss: 0.3039 - acc: 0.9020 - val_loss: 0.2054 - val_acc: 0.9351\n",
      "Epoch 19/100\n",
      "7/8 [=========================>....] - ETA: 0s - loss: 0.3221 - acc: 0.8924Epoch 1/100\n",
      "8/8 [==============================] - 9s 1s/step - loss: 0.3293 - acc: 0.8824 - val_loss: 0.2490 - val_acc: 0.9091\n",
      "Epoch 20/100\n",
      "7/8 [=========================>....] - ETA: 0s - loss: 0.3434 - acc: 0.8700Epoch 1/100\n",
      "8/8 [==============================] - 9s 1s/step - loss: 0.3318 - acc: 0.8745 - val_loss: 0.2556 - val_acc: 0.8961\n",
      "Epoch 21/100\n",
      "7/8 [=========================>....] - ETA: 0s - loss: 0.3226 - acc: 0.8655Epoch 1/100\n",
      "8/8 [==============================] - 9s 1s/step - loss: 0.3095 - acc: 0.8784 - val_loss: 0.1969 - val_acc: 0.9351\n",
      "Epoch 22/100\n",
      "7/8 [=========================>....] - ETA: 0s - loss: 0.3153 - acc: 0.8744Epoch 1/100\n",
      "8/8 [==============================] - 9s 1s/step - loss: 0.3078 - acc: 0.8784 - val_loss: 0.2872 - val_acc: 0.9221\n",
      "Epoch 23/100\n",
      "7/8 [=========================>....] - ETA: 0s - loss: 0.2821 - acc: 0.8924Epoch 1/100\n",
      "8/8 [==============================] - 10s 1s/step - loss: 0.2753 - acc: 0.8980 - val_loss: 0.1984 - val_acc: 0.9156\n",
      "Epoch 24/100\n",
      "7/8 [=========================>....] - ETA: 0s - loss: 0.2770 - acc: 0.8879Epoch 1/100\n",
      "8/8 [==============================] - 9s 1s/step - loss: 0.2877 - acc: 0.8863 - val_loss: 0.2061 - val_acc: 0.9156\n",
      "Epoch 25/100\n",
      "7/8 [=========================>....] - ETA: 0s - loss: 0.2074 - acc: 0.9013Epoch 1/100\n",
      "8/8 [==============================] - 9s 1s/step - loss: 0.2183 - acc: 0.9020 - val_loss: 0.1649 - val_acc: 0.9481\n",
      "Epoch 26/100\n",
      "7/8 [=========================>....] - ETA: 0s - loss: 0.2358 - acc: 0.9148Epoch 1/100\n",
      "8/8 [==============================] - 9s 1s/step - loss: 0.2303 - acc: 0.9216 - val_loss: 0.1683 - val_acc: 0.9545\n",
      "Epoch 27/100\n",
      "7/8 [=========================>....] - ETA: 0s - loss: 0.2376 - acc: 0.9148Epoch 1/100\n",
      "8/8 [==============================] - 9s 1s/step - loss: 0.2414 - acc: 0.9098 - val_loss: 0.1384 - val_acc: 0.9740\n",
      "Epoch 28/100\n",
      "7/8 [=========================>....] - ETA: 0s - loss: 0.2442 - acc: 0.9283Epoch 1/100\n",
      "8/8 [==============================] - 9s 1s/step - loss: 0.2581 - acc: 0.9176 - val_loss: 0.1611 - val_acc: 0.9221\n",
      "Epoch 29/100\n",
      "7/8 [=========================>....] - ETA: 0s - loss: 0.2240 - acc: 0.9148Epoch 1/100\n",
      "8/8 [==============================] - 9s 1s/step - loss: 0.2151 - acc: 0.9176 - val_loss: 0.1089 - val_acc: 0.9740\n",
      "Epoch 30/100\n",
      "7/8 [=========================>....] - ETA: 0s - loss: 0.1727 - acc: 0.9464Epoch 1/100\n",
      "8/8 [==============================] - 9s 1s/step - loss: 0.1740 - acc: 0.9490 - val_loss: 0.2102 - val_acc: 0.9221\n",
      "Epoch 31/100\n",
      "7/8 [=========================>....] - ETA: 0s - loss: 0.2468 - acc: 0.9018Epoch 1/100\n",
      "8/8 [==============================] - 9s 1s/step - loss: 0.2288 - acc: 0.9098 - val_loss: 0.1053 - val_acc: 0.9805\n",
      "Epoch 32/100\n",
      "7/8 [=========================>....] - ETA: 0s - loss: 0.2408 - acc: 0.8924Epoch 1/100\n",
      "8/8 [==============================] - 9s 1s/step - loss: 0.2395 - acc: 0.8980 - val_loss: 0.1344 - val_acc: 0.9416\n",
      "Epoch 33/100\n",
      "7/8 [=========================>....] - ETA: 0s - loss: 0.1665 - acc: 0.9372Epoch 1/100\n",
      "8/8 [==============================] - 9s 1s/step - loss: 0.1703 - acc: 0.9333 - val_loss: 0.1513 - val_acc: 0.9545\n",
      "Epoch 34/100\n",
      "7/8 [=========================>....] - ETA: 0s - loss: 0.1540 - acc: 0.9598Epoch 1/100\n",
      "8/8 [==============================] - 9s 1s/step - loss: 0.1625 - acc: 0.9529 - val_loss: 0.0748 - val_acc: 0.9740\n",
      "Epoch 35/100\n",
      "7/8 [=========================>....] - ETA: 0s - loss: 0.1615 - acc: 0.9598Epoch 1/100\n",
      "8/8 [==============================] - 9s 1s/step - loss: 0.1537 - acc: 0.9608 - val_loss: 0.0698 - val_acc: 0.9805\n",
      "Epoch 36/100\n",
      "7/8 [=========================>....] - ETA: 0s - loss: 0.1697 - acc: 0.9327Epoch 1/100\n",
      "8/8 [==============================] - 9s 1s/step - loss: 0.1619 - acc: 0.9373 - val_loss: 0.0890 - val_acc: 0.9805\n",
      "Epoch 37/100\n",
      "7/8 [=========================>....] - ETA: 0s - loss: 0.1403 - acc: 0.9372Epoch 1/100\n",
      "8/8 [==============================] - 9s 1s/step - loss: 0.1417 - acc: 0.9412 - val_loss: 0.0396 - val_acc: 0.9935\n",
      "Epoch 38/100\n",
      "7/8 [=========================>....] - ETA: 0s - loss: 0.1254 - acc: 0.9552Epoch 1/100\n",
      "8/8 [==============================] - 9s 1s/step - loss: 0.1296 - acc: 0.9529 - val_loss: 0.0692 - val_acc: 0.9805\n"
     ]
    },
    {
     "name": "stdout",
     "output_type": "stream",
     "text": [
      "Epoch 39/100\n",
      "7/8 [=========================>....] - ETA: 0s - loss: 0.1408 - acc: 0.9417Epoch 1/100\n",
      "8/8 [==============================] - 9s 1s/step - loss: 0.1310 - acc: 0.9490 - val_loss: 0.0611 - val_acc: 1.0000\n",
      "Epoch 40/100\n",
      "7/8 [=========================>....] - ETA: 0s - loss: 0.1228 - acc: 0.9417Epoch 1/100\n",
      "8/8 [==============================] - 9s 1s/step - loss: 0.1135 - acc: 0.9490 - val_loss: 0.0409 - val_acc: 0.9935\n",
      "Epoch 41/100\n",
      "7/8 [=========================>....] - ETA: 0s - loss: 0.1149 - acc: 0.9641Epoch 1/100\n",
      "8/8 [==============================] - 9s 1s/step - loss: 0.1079 - acc: 0.9647 - val_loss: 0.1610 - val_acc: 0.9351\n",
      "Epoch 42/100\n",
      "7/8 [=========================>....] - ETA: 0s - loss: 0.0995 - acc: 0.9596Epoch 1/100\n",
      "8/8 [==============================] - 9s 1s/step - loss: 0.0956 - acc: 0.9569 - val_loss: 0.0617 - val_acc: 0.9610\n",
      "Epoch 43/100\n",
      "7/8 [=========================>....] - ETA: 0s - loss: 0.1510 - acc: 0.9552Epoch 1/100\n",
      "8/8 [==============================] - 9s 1s/step - loss: 0.1415 - acc: 0.9569 - val_loss: 0.0599 - val_acc: 0.9740\n",
      "Epoch 44/100\n",
      "7/8 [=========================>....] - ETA: 0s - loss: 0.1019 - acc: 0.9596Epoch 1/100\n",
      "8/8 [==============================] - 9s 1s/step - loss: 0.1007 - acc: 0.9608 - val_loss: 0.0366 - val_acc: 0.9805\n",
      "Epoch 45/100\n",
      "7/8 [=========================>....] - ETA: 0s - loss: 0.0875 - acc: 0.9641Epoch 1/100\n",
      "8/8 [==============================] - 9s 1s/step - loss: 0.0847 - acc: 0.9647 - val_loss: 0.0292 - val_acc: 0.9935\n",
      "Epoch 46/100\n",
      "7/8 [=========================>....] - ETA: 0s - loss: 0.0625 - acc: 0.9731Epoch 1/100\n",
      "8/8 [==============================] - 9s 1s/step - loss: 0.0676 - acc: 0.9725 - val_loss: 0.0669 - val_acc: 0.9805\n",
      "Epoch 47/100\n",
      "7/8 [=========================>....] - ETA: 0s - loss: 0.1188 - acc: 0.9552Epoch 1/100\n",
      "8/8 [==============================] - 9s 1s/step - loss: 0.1108 - acc: 0.9569 - val_loss: 0.0303 - val_acc: 0.9935\n",
      "Epoch 48/100\n",
      "7/8 [=========================>....] - ETA: 0s - loss: 0.1120 - acc: 0.9507Epoch 1/100\n",
      "8/8 [==============================] - 9s 1s/step - loss: 0.1030 - acc: 0.9569 - val_loss: 0.0656 - val_acc: 0.9870\n",
      "Epoch 49/100\n",
      "7/8 [=========================>....] - ETA: 0s - loss: 0.0872 - acc: 0.9731Epoch 1/100\n",
      "8/8 [==============================] - 9s 1s/step - loss: 0.0784 - acc: 0.9765 - val_loss: 0.0775 - val_acc: 0.9610\n",
      "Epoch 50/100\n",
      "7/8 [=========================>....] - ETA: 0s - loss: 0.0633 - acc: 0.9821Epoch 1/100\n",
      "8/8 [==============================] - 9s 1s/step - loss: 0.0737 - acc: 0.9765 - val_loss: 0.0269 - val_acc: 0.9935\n",
      "Epoch 51/100\n",
      "7/8 [=========================>....] - ETA: 0s - loss: 0.0849 - acc: 0.9731Epoch 1/100\n",
      "8/8 [==============================] - 9s 1s/step - loss: 0.0795 - acc: 0.9765 - val_loss: 0.0270 - val_acc: 1.0000\n",
      "Epoch 52/100\n",
      "7/8 [=========================>....] - ETA: 0s - loss: 0.1028 - acc: 0.9688Epoch 1/100\n",
      "8/8 [==============================] - 9s 1s/step - loss: 0.1022 - acc: 0.9686 - val_loss: 0.0636 - val_acc: 0.9805\n",
      "Epoch 53/100\n",
      "7/8 [=========================>....] - ETA: 0s - loss: 0.1136 - acc: 0.9552Epoch 1/100\n",
      "8/8 [==============================] - 9s 1s/step - loss: 0.1025 - acc: 0.9608 - val_loss: 0.0596 - val_acc: 0.9805\n",
      "Epoch 54/100\n",
      "7/8 [=========================>....] - ETA: 0s - loss: 0.1257 - acc: 0.9507Epoch 1/100\n",
      "8/8 [==============================] - 9s 1s/step - loss: 0.1130 - acc: 0.9569 - val_loss: 0.0309 - val_acc: 0.9935\n",
      "Epoch 55/100\n",
      "7/8 [=========================>....] - ETA: 0s - loss: 0.1154 - acc: 0.9552Epoch 1/100\n",
      "8/8 [==============================] - 9s 1s/step - loss: 0.1038 - acc: 0.9608 - val_loss: 0.0306 - val_acc: 0.9935\n",
      "Epoch 56/100\n",
      "7/8 [=========================>....] - ETA: 0s - loss: 0.0604 - acc: 0.9910Epoch 1/100\n",
      "8/8 [==============================] - 9s 1s/step - loss: 0.0620 - acc: 0.9882 - val_loss: 0.0513 - val_acc: 0.9870\n",
      "Epoch 57/100\n",
      "7/8 [=========================>....] - ETA: 0s - loss: 0.0620 - acc: 0.9776Epoch 1/100\n",
      "8/8 [==============================] - 9s 1s/step - loss: 0.0661 - acc: 0.9725 - val_loss: 0.0270 - val_acc: 0.9870\n",
      "Epoch 58/100\n",
      "7/8 [=========================>....] - ETA: 0s - loss: 0.0256 - acc: 0.9955Epoch 1/100\n",
      "8/8 [==============================] - 9s 1s/step - loss: 0.0320 - acc: 0.9922 - val_loss: 0.0166 - val_acc: 0.9935\n",
      "Epoch 59/100\n",
      "7/8 [=========================>....] - ETA: 0s - loss: 0.0749 - acc: 0.9731Epoch 1/100\n",
      "8/8 [==============================] - 9s 1s/step - loss: 0.0857 - acc: 0.9686 - val_loss: 0.0198 - val_acc: 1.0000\n",
      "Epoch 60/100\n",
      "7/8 [=========================>....] - ETA: 0s - loss: 0.0626 - acc: 0.9910Epoch 1/100\n",
      "8/8 [==============================] - 9s 1s/step - loss: 0.0574 - acc: 0.9922 - val_loss: 0.0606 - val_acc: 0.9740\n",
      "Epoch 61/100\n",
      "7/8 [=========================>....] - ETA: 0s - loss: 0.0390 - acc: 0.9777Epoch 1/100\n",
      "8/8 [==============================] - 9s 1s/step - loss: 0.0417 - acc: 0.9804 - val_loss: 0.0401 - val_acc: 0.9805\n",
      "Epoch 62/100\n",
      "7/8 [=========================>....] - ETA: 0s - loss: 0.0671 - acc: 0.9866Epoch 1/100\n",
      "8/8 [==============================] - 9s 1s/step - loss: 0.0595 - acc: 0.9882 - val_loss: 0.0143 - val_acc: 1.0000\n",
      "Epoch 63/100\n",
      "7/8 [=========================>....] - ETA: 0s - loss: 0.0269 - acc: 0.9955Epoch 1/100\n",
      "8/8 [==============================] - 9s 1s/step - loss: 0.0242 - acc: 0.9961 - val_loss: 0.0060 - val_acc: 1.0000\n",
      "Epoch 64/100\n",
      "7/8 [=========================>....] - ETA: 0s - loss: 0.0308 - acc: 0.9910Epoch 1/100\n",
      "8/8 [==============================] - 9s 1s/step - loss: 0.0320 - acc: 0.9882 - val_loss: 0.0234 - val_acc: 0.9870\n",
      "Epoch 65/100\n",
      "7/8 [=========================>....] - ETA: 0s - loss: 0.0234 - acc: 1.0000Epoch 1/100\n",
      "8/8 [==============================] - 9s 1s/step - loss: 0.0219 - acc: 1.0000 - val_loss: 0.0061 - val_acc: 1.0000\n",
      "Epoch 66/100\n",
      "7/8 [=========================>....] - ETA: 0s - loss: 0.0216 - acc: 0.9955Epoch 1/100\n",
      "8/8 [==============================] - 9s 1s/step - loss: 0.0194 - acc: 0.9961 - val_loss: 0.0036 - val_acc: 1.0000\n",
      "Epoch 67/100\n",
      "7/8 [=========================>....] - ETA: 0s - loss: 0.0496 - acc: 0.9731Epoch 1/100\n",
      "8/8 [==============================] - 9s 1s/step - loss: 0.0461 - acc: 0.9765 - val_loss: 0.0027 - val_acc: 1.0000\n",
      "Epoch 68/100\n",
      "7/8 [=========================>....] - ETA: 0s - loss: 0.1164 - acc: 0.9731Epoch 1/100\n",
      "8/8 [==============================] - 9s 1s/step - loss: 0.1062 - acc: 0.9765 - val_loss: 0.0242 - val_acc: 0.9935\n",
      "Epoch 69/100\n",
      "7/8 [=========================>....] - ETA: 0s - loss: 0.0406 - acc: 0.9955Epoch 1/100\n",
      "8/8 [==============================] - 9s 1s/step - loss: 0.0461 - acc: 0.9922 - val_loss: 0.0126 - val_acc: 1.0000\n",
      "Epoch 70/100\n",
      "7/8 [=========================>....] - ETA: 0s - loss: 0.0262 - acc: 0.9955Epoch 1/100\n",
      "8/8 [==============================] - 9s 1s/step - loss: 0.0249 - acc: 0.9961 - val_loss: 0.0219 - val_acc: 0.9870\n",
      "Epoch 71/100\n",
      "7/8 [=========================>....] - ETA: 0s - loss: 0.0181 - acc: 1.0000Epoch 1/100\n",
      "8/8 [==============================] - 9s 1s/step - loss: 0.0329 - acc: 0.9922 - val_loss: 0.0299 - val_acc: 0.9935\n",
      "Epoch 72/100\n",
      "7/8 [=========================>....] - ETA: 0s - loss: 0.0646 - acc: 0.9776Epoch 1/100\n",
      "8/8 [==============================] - 9s 1s/step - loss: 0.0598 - acc: 0.9765 - val_loss: 0.0073 - val_acc: 1.0000\n",
      "Epoch 73/100\n",
      "7/8 [=========================>....] - ETA: 0s - loss: 0.0603 - acc: 0.9731Epoch 1/100\n",
      "8/8 [==============================] - 9s 1s/step - loss: 0.0568 - acc: 0.9765 - val_loss: 0.0196 - val_acc: 1.0000\n",
      "Epoch 74/100\n",
      "7/8 [=========================>....] - ETA: 0s - loss: 0.0491 - acc: 0.9821Epoch 1/100\n",
      "8/8 [==============================] - 9s 1s/step - loss: 0.0492 - acc: 0.9804 - val_loss: 0.0123 - val_acc: 0.9935\n",
      "Epoch 75/100\n",
      "7/8 [=========================>....] - ETA: 0s - loss: 0.0425 - acc: 0.9821Epoch 1/100\n",
      "8/8 [==============================] - 9s 1s/step - loss: 0.0501 - acc: 0.9765 - val_loss: 0.0088 - val_acc: 1.0000\n",
      "Epoch 76/100\n",
      "7/8 [=========================>....] - ETA: 0s - loss: 0.1130 - acc: 0.9552Epoch 1/100\n",
      "8/8 [==============================] - 9s 1s/step - loss: 0.1002 - acc: 0.9608 - val_loss: 0.0210 - val_acc: 0.9935\n"
     ]
    },
    {
     "name": "stdout",
     "output_type": "stream",
     "text": [
      "Epoch 77/100\n",
      "7/8 [=========================>....] - ETA: 1s - loss: 0.0615 - acc: 0.9821Epoch 1/100\n",
      "8/8 [==============================] - 9s 1s/step - loss: 0.0551 - acc: 0.9843 - val_loss: 0.0126 - val_acc: 0.9935\n",
      "Epoch 78/100\n",
      "7/8 [=========================>....] - ETA: 0s - loss: 0.0261 - acc: 0.9910Epoch 1/100\n",
      "8/8 [==============================] - 9s 1s/step - loss: 0.0231 - acc: 0.9922 - val_loss: 0.0056 - val_acc: 1.0000\n",
      "Epoch 79/100\n",
      "7/8 [=========================>....] - ETA: 0s - loss: 0.0152 - acc: 0.9955Epoch 1/100\n",
      "8/8 [==============================] - 9s 1s/step - loss: 0.0221 - acc: 0.9922 - val_loss: 0.0053 - val_acc: 1.0000\n",
      "Epoch 80/100\n",
      "7/8 [=========================>....] - ETA: 1s - loss: 0.0256 - acc: 0.9910Epoch 1/100\n",
      "8/8 [==============================] - 10s 1s/step - loss: 0.0246 - acc: 0.9922 - val_loss: 0.0066 - val_acc: 0.9935\n",
      "Epoch 81/100\n",
      "7/8 [=========================>....] - ETA: 0s - loss: 0.0249 - acc: 0.9955Epoch 1/100\n",
      "8/8 [==============================] - 9s 1s/step - loss: 0.0227 - acc: 0.9961 - val_loss: 0.0046 - val_acc: 1.0000\n",
      "Epoch 82/100\n",
      "7/8 [=========================>....] - ETA: 0s - loss: 0.0367 - acc: 0.9821Epoch 1/100\n",
      "8/8 [==============================] - 9s 1s/step - loss: 0.0326 - acc: 0.9843 - val_loss: 0.0067 - val_acc: 1.0000\n",
      "Epoch 83/100\n",
      "7/8 [=========================>....] - ETA: 0s - loss: 0.0146 - acc: 0.9955Epoch 1/100\n",
      "8/8 [==============================] - 9s 1s/step - loss: 0.0128 - acc: 0.9961 - val_loss: 0.0063 - val_acc: 1.0000\n",
      "Epoch 84/100\n",
      "7/8 [=========================>....] - ETA: 0s - loss: 0.0165 - acc: 0.9955Epoch 1/100\n",
      "8/8 [==============================] - 9s 1s/step - loss: 0.0156 - acc: 0.9961 - val_loss: 0.0029 - val_acc: 1.0000\n",
      "Epoch 85/100\n",
      "7/8 [=========================>....] - ETA: 0s - loss: 0.0245 - acc: 0.9865Epoch 1/100\n",
      "8/8 [==============================] - 9s 1s/step - loss: 0.0218 - acc: 0.9882 - val_loss: 0.0036 - val_acc: 1.0000\n",
      "Epoch 86/100\n",
      "7/8 [=========================>....] - ETA: 0s - loss: 0.0073 - acc: 1.0000Epoch 1/100\n",
      "8/8 [==============================] - 9s 1s/step - loss: 0.0119 - acc: 0.9961 - val_loss: 0.0018 - val_acc: 1.0000\n",
      "Epoch 87/100\n",
      "7/8 [=========================>....] - ETA: 0s - loss: 0.0089 - acc: 0.9955Epoch 1/100\n",
      "8/8 [==============================] - 9s 1s/step - loss: 0.0078 - acc: 0.9961 - val_loss: 9.8546e-04 - val_acc: 1.0000\n",
      "Epoch 88/100\n",
      "7/8 [=========================>....] - ETA: 0s - loss: 0.0106 - acc: 0.9955Epoch 1/100\n",
      "8/8 [==============================] - 9s 1s/step - loss: 0.0096 - acc: 0.9961 - val_loss: 0.0026 - val_acc: 1.0000\n",
      "Epoch 89/100\n",
      "7/8 [=========================>....] - ETA: 0s - loss: 0.0167 - acc: 0.9910Epoch 1/100\n",
      "8/8 [==============================] - 9s 1s/step - loss: 0.0367 - acc: 0.9882 - val_loss: 0.0059 - val_acc: 1.0000\n",
      "Epoch 90/100\n",
      "7/8 [=========================>....] - ETA: 0s - loss: 0.0120 - acc: 0.9910Epoch 1/100\n",
      "8/8 [==============================] - 9s 1s/step - loss: 0.0158 - acc: 0.9882 - val_loss: 0.0051 - val_acc: 1.0000\n",
      "Epoch 91/100\n",
      "7/8 [=========================>....] - ETA: 0s - loss: 0.0437 - acc: 0.9821Epoch 1/100\n",
      "8/8 [==============================] - 9s 1s/step - loss: 0.0489 - acc: 0.9804 - val_loss: 0.1052 - val_acc: 0.9545\n",
      "Epoch 92/100\n",
      "7/8 [=========================>....] - ETA: 0s - loss: 0.0657 - acc: 0.9776Epoch 1/100\n",
      "8/8 [==============================] - 9s 1s/step - loss: 0.0586 - acc: 0.9804 - val_loss: 0.0045 - val_acc: 1.0000\n",
      "Epoch 93/100\n",
      "7/8 [=========================>....] - ETA: 0s - loss: 0.0903 - acc: 0.9776Epoch 1/100\n",
      "8/8 [==============================] - 9s 1s/step - loss: 0.0835 - acc: 0.9765 - val_loss: 0.0335 - val_acc: 0.9805\n",
      "Epoch 94/100\n",
      "7/8 [=========================>....] - ETA: 0s - loss: 0.0391 - acc: 0.9865Epoch 1/100\n",
      "8/8 [==============================] - 9s 1s/step - loss: 0.0488 - acc: 0.9804 - val_loss: 0.0324 - val_acc: 0.9870\n",
      "Epoch 95/100\n",
      "7/8 [=========================>....] - ETA: 0s - loss: 0.0382 - acc: 0.9821Epoch 1/100\n",
      "8/8 [==============================] - 9s 1s/step - loss: 0.0339 - acc: 0.9843 - val_loss: 0.0096 - val_acc: 0.9935\n",
      "Epoch 96/100\n",
      "7/8 [=========================>....] - ETA: 0s - loss: 0.0250 - acc: 0.9910Epoch 1/100\n",
      "8/8 [==============================] - 9s 1s/step - loss: 0.0295 - acc: 0.9882 - val_loss: 0.0073 - val_acc: 0.9935\n",
      "Epoch 97/100\n",
      "7/8 [=========================>....] - ETA: 0s - loss: 0.0297 - acc: 0.9865Epoch 1/100\n",
      "8/8 [==============================] - 9s 1s/step - loss: 0.0282 - acc: 0.9882 - val_loss: 0.0129 - val_acc: 0.9935\n",
      "Epoch 98/100\n",
      "7/8 [=========================>....] - ETA: 0s - loss: 0.0315 - acc: 0.9865Epoch 1/100\n",
      "8/8 [==============================] - 9s 1s/step - loss: 0.0304 - acc: 0.9882 - val_loss: 0.0065 - val_acc: 1.0000\n",
      "Epoch 99/100\n",
      "7/8 [=========================>....] - ETA: 0s - loss: 0.0126 - acc: 0.9955Epoch 1/100\n",
      "8/8 [==============================] - 9s 1s/step - loss: 0.0119 - acc: 0.9961 - val_loss: 0.0061 - val_acc: 1.0000\n",
      "Epoch 100/100\n",
      "7/8 [=========================>....] - ETA: 0s - loss: 0.0283 - acc: 0.9821Epoch 1/100\n",
      "8/8 [==============================] - 9s 1s/step - loss: 0.0285 - acc: 0.9843 - val_loss: 0.0013 - val_acc: 1.0000\n"
     ]
    }
   ],
   "source": [
    "# Train the model\n",
    "epochs = 100\n",
    "history = model.fit(train_generator,\n",
    "                    epochs=epochs,\n",
    "                    validation_data=val_generator)"
   ]
  },
  {
   "cell_type": "code",
   "execution_count": 19,
   "metadata": {},
   "outputs": [],
   "source": [
    "# Save the trained model\n",
    "model.save('tumour.h5')"
   ]
  },
  {
   "cell_type": "code",
   "execution_count": 20,
   "metadata": {},
   "outputs": [],
   "source": [
    "# Plot the accuracy and loss curves\n",
    "acc = history.history['acc']\n",
    "val_acc = history.history['val_acc']\n",
    "loss = history.history['loss']\n",
    "val_loss = history.history['val_loss']"
   ]
  },
  {
   "cell_type": "code",
   "execution_count": 21,
   "metadata": {},
   "outputs": [],
   "source": [
    "epochs_range = range(epochs)"
   ]
  },
  {
   "cell_type": "code",
   "execution_count": 22,
   "metadata": {},
   "outputs": [
    {
     "data": {
      "text/plain": [
       "Text(0.5, 1.0, 'Training and Validation Accuracy')"
      ]
     },
     "execution_count": 22,
     "metadata": {},
     "output_type": "execute_result"
    },
    {
     "data": {
      "image/png": "[encoded data removed]",
      "text/plain": [
       "<Figure size 800x800 with 1 Axes>"
      ]
     },
     "metadata": {},
     "output_type": "display_data"
    }
   ],
   "source": [
    "plt.figure(figsize=(8, 8))\n",
    "plt.subplot(2, 1, 1)\n",
    "plt.plot(epochs_range, acc, label='Training Accuracy')\n",
    "plt.plot(epochs_range, val_acc, label='Validation Accuracy')\n",
    "plt.legend(loc='lower right')\n",
    "plt.title('Training and Validation Accuracy')"
   ]
  },
  {
   "cell_type": "code",
   "execution_count": 23,
   "metadata": {},
   "outputs": [
    {
     "data": {
      "image/png": "[encoded data removed]",
      "text/plain": [
       "<Figure size 640x480 with 1 Axes>"
      ]
     },
     "metadata": {},
     "output_type": "display_data"
    }
   ],
   "source": [
    "plt.subplot(2, 1, 2)\n",
    "plt.plot(epochs_range, loss, label='Training Loss')\n",
    "plt.plot(epochs_range, val_loss, label='Validation Loss')\n",
    "plt.legend(loc='upper right')\n",
    "plt.title('Training and Validation Loss')\n",
    "plt.show()"
   ]
  },
  {
   "cell_type": "code",
   "execution_count": 24,
   "metadata": {},
   "outputs": [
    {
     "ename": "ValueError",
     "evalue": "The number of FixedLocator locations (2), usually from a call to set_ticks, does not match the number of ticklabels (3).",
     "output_type": "error",
     "traceback": [
      "\u001b[1;31m---------------------------------------------------------------------------\u001b[0m",
      "\u001b[1;31mValueError\u001b[0m                                Traceback (most recent call last)",
      "\u001b[1;32m~\\AppData\\Local\\Temp\\ipykernel_19980\\3447484983.py\u001b[0m in \u001b[0;36m<module>\u001b[1;34m\u001b[0m\n\u001b[0;32m     20\u001b[0m        \u001b[0myticks\u001b[0m\u001b[1;33m=\u001b[0m\u001b[0mnp\u001b[0m\u001b[1;33m.\u001b[0m\u001b[0marange\u001b[0m\u001b[1;33m(\u001b[0m\u001b[0mcm\u001b[0m\u001b[1;33m.\u001b[0m\u001b[0mshape\u001b[0m\u001b[1;33m[\u001b[0m\u001b[1;36m0\u001b[0m\u001b[1;33m]\u001b[0m\u001b[1;33m)\u001b[0m\u001b[1;33m,\u001b[0m\u001b[1;33m\u001b[0m\u001b[1;33m\u001b[0m\u001b[0m\n\u001b[0;32m     21\u001b[0m        \u001b[0mxticklabels\u001b[0m\u001b[1;33m=\u001b[0m\u001b[0mclass_names\u001b[0m\u001b[1;33m,\u001b[0m \u001b[0myticklabels\u001b[0m\u001b[1;33m=\u001b[0m\u001b[0mclass_names\u001b[0m\u001b[1;33m,\u001b[0m\u001b[1;33m\u001b[0m\u001b[1;33m\u001b[0m\u001b[0m\n\u001b[1;32m---> 22\u001b[1;33m        xlabel='Predicted label', ylabel='True label')\n\u001b[0m\u001b[0;32m     23\u001b[0m \u001b[1;31m# Rotate the x-axis labels to vertical orientation\u001b[0m\u001b[1;33m\u001b[0m\u001b[1;33m\u001b[0m\u001b[1;33m\u001b[0m\u001b[0m\n\u001b[0;32m     24\u001b[0m plt.setp(ax.get_xticklabels(), rotation=90, ha=\"right\",\n",
      "\u001b[1;32m~\\anaconda3\\envs\\shan\\lib\\site-packages\\matplotlib\\artist.py\u001b[0m in \u001b[0;36m<lambda>\u001b[1;34m(self, **kwargs)\u001b[0m\n\u001b[0;32m    115\u001b[0m             \u001b[1;32mreturn\u001b[0m\u001b[1;33m\u001b[0m\u001b[1;33m\u001b[0m\u001b[0m\n\u001b[0;32m    116\u001b[0m \u001b[1;33m\u001b[0m\u001b[0m\n\u001b[1;32m--> 117\u001b[1;33m         \u001b[0mcls\u001b[0m\u001b[1;33m.\u001b[0m\u001b[0mset\u001b[0m \u001b[1;33m=\u001b[0m \u001b[1;32mlambda\u001b[0m \u001b[0mself\u001b[0m\u001b[1;33m,\u001b[0m \u001b[1;33m**\u001b[0m\u001b[0mkwargs\u001b[0m\u001b[1;33m:\u001b[0m \u001b[0mArtist\u001b[0m\u001b[1;33m.\u001b[0m\u001b[0mset\u001b[0m\u001b[1;33m(\u001b[0m\u001b[0mself\u001b[0m\u001b[1;33m,\u001b[0m \u001b[1;33m**\u001b[0m\u001b[0mkwargs\u001b[0m\u001b[1;33m)\u001b[0m\u001b[1;33m\u001b[0m\u001b[1;33m\u001b[0m\u001b[0m\n\u001b[0m\u001b[0;32m    118\u001b[0m         \u001b[0mcls\u001b[0m\u001b[1;33m.\u001b[0m\u001b[0mset\u001b[0m\u001b[1;33m.\u001b[0m\u001b[0m__name__\u001b[0m \u001b[1;33m=\u001b[0m \u001b[1;34m\"set\"\u001b[0m\u001b[1;33m\u001b[0m\u001b[1;33m\u001b[0m\u001b[0m\n\u001b[0;32m    119\u001b[0m         \u001b[0mcls\u001b[0m\u001b[1;33m.\u001b[0m\u001b[0mset\u001b[0m\u001b[1;33m.\u001b[0m\u001b[0m__qualname__\u001b[0m \u001b[1;33m=\u001b[0m \u001b[1;34mf\"{cls.__qualname__}.set\"\u001b[0m\u001b[1;33m\u001b[0m\u001b[1;33m\u001b[0m\u001b[0m\n",
      "\u001b[1;32m~\\anaconda3\\envs\\shan\\lib\\site-packages\\matplotlib\\artist.py\u001b[0m in \u001b[0;36mset\u001b[1;34m(self, **kwargs)\u001b[0m\n\u001b[0;32m   1165\u001b[0m         \u001b[1;31m# module.\u001b[0m\u001b[1;33m\u001b[0m\u001b[1;33m\u001b[0m\u001b[1;33m\u001b[0m\u001b[0m\n\u001b[0;32m   1166\u001b[0m         \u001b[0mkwargs\u001b[0m \u001b[1;33m=\u001b[0m \u001b[0mcbook\u001b[0m\u001b[1;33m.\u001b[0m\u001b[0mnormalize_kwargs\u001b[0m\u001b[1;33m(\u001b[0m\u001b[0mkwargs\u001b[0m\u001b[1;33m,\u001b[0m \u001b[0mself\u001b[0m\u001b[1;33m)\u001b[0m\u001b[1;33m\u001b[0m\u001b[1;33m\u001b[0m\u001b[0m\n\u001b[1;32m-> 1167\u001b[1;33m         \u001b[1;32mreturn\u001b[0m \u001b[0mself\u001b[0m\u001b[1;33m.\u001b[0m\u001b[0mupdate\u001b[0m\u001b[1;33m(\u001b[0m\u001b[0mkwargs\u001b[0m\u001b[1;33m)\u001b[0m\u001b[1;33m\u001b[0m\u001b[1;33m\u001b[0m\u001b[0m\n\u001b[0m\u001b[0;32m   1168\u001b[0m \u001b[1;33m\u001b[0m\u001b[0m\n\u001b[0;32m   1169\u001b[0m     \u001b[1;33m@\u001b[0m\u001b[0mcontextlib\u001b[0m\u001b[1;33m.\u001b[0m\u001b[0mcontextmanager\u001b[0m\u001b[1;33m\u001b[0m\u001b[1;33m\u001b[0m\u001b[0m\n",
      "\u001b[1;32m~\\anaconda3\\envs\\shan\\lib\\site-packages\\matplotlib\\artist.py\u001b[0m in \u001b[0;36mupdate\u001b[1;34m(self, props)\u001b[0m\n\u001b[0;32m   1067\u001b[0m                         raise AttributeError(f\"{type(self).__name__!r} object \"\n\u001b[0;32m   1068\u001b[0m                                              f\"has no property {k!r}\")\n\u001b[1;32m-> 1069\u001b[1;33m                     \u001b[0mret\u001b[0m\u001b[1;33m.\u001b[0m\u001b[0mappend\u001b[0m\u001b[1;33m(\u001b[0m\u001b[0mfunc\u001b[0m\u001b[1;33m(\u001b[0m\u001b[0mv\u001b[0m\u001b[1;33m)\u001b[0m\u001b[1;33m)\u001b[0m\u001b[1;33m\u001b[0m\u001b[1;33m\u001b[0m\u001b[0m\n\u001b[0m\u001b[0;32m   1070\u001b[0m         \u001b[1;32mif\u001b[0m \u001b[0mret\u001b[0m\u001b[1;33m:\u001b[0m\u001b[1;33m\u001b[0m\u001b[1;33m\u001b[0m\u001b[0m\n\u001b[0;32m   1071\u001b[0m             \u001b[0mself\u001b[0m\u001b[1;33m.\u001b[0m\u001b[0mpchanged\u001b[0m\u001b[1;33m(\u001b[0m\u001b[1;33m)\u001b[0m\u001b[1;33m\u001b[0m\u001b[1;33m\u001b[0m\u001b[0m\n",
      "\u001b[1;32m~\\anaconda3\\envs\\shan\\lib\\site-packages\\matplotlib\\axes\\_base.py\u001b[0m in \u001b[0;36mwrapper\u001b[1;34m(self, *args, **kwargs)\u001b[0m\n\u001b[0;32m     73\u001b[0m \u001b[1;33m\u001b[0m\u001b[0m\n\u001b[0;32m     74\u001b[0m         \u001b[1;32mdef\u001b[0m \u001b[0mwrapper\u001b[0m\u001b[1;33m(\u001b[0m\u001b[0mself\u001b[0m\u001b[1;33m,\u001b[0m \u001b[1;33m*\u001b[0m\u001b[0margs\u001b[0m\u001b[1;33m,\u001b[0m \u001b[1;33m**\u001b[0m\u001b[0mkwargs\u001b[0m\u001b[1;33m)\u001b[0m\u001b[1;33m:\u001b[0m\u001b[1;33m\u001b[0m\u001b[1;33m\u001b[0m\u001b[0m\n\u001b[1;32m---> 75\u001b[1;33m             \u001b[1;32mreturn\u001b[0m \u001b[0mget_method\u001b[0m\u001b[1;33m(\u001b[0m\u001b[0mself\u001b[0m\u001b[1;33m)\u001b[0m\u001b[1;33m(\u001b[0m\u001b[1;33m*\u001b[0m\u001b[0margs\u001b[0m\u001b[1;33m,\u001b[0m \u001b[1;33m**\u001b[0m\u001b[0mkwargs\u001b[0m\u001b[1;33m)\u001b[0m\u001b[1;33m\u001b[0m\u001b[1;33m\u001b[0m\u001b[0m\n\u001b[0m\u001b[0;32m     76\u001b[0m \u001b[1;33m\u001b[0m\u001b[0m\n\u001b[0;32m     77\u001b[0m         \u001b[0mwrapper\u001b[0m\u001b[1;33m.\u001b[0m\u001b[0m__module__\u001b[0m \u001b[1;33m=\u001b[0m \u001b[0mowner\u001b[0m\u001b[1;33m.\u001b[0m\u001b[0m__module__\u001b[0m\u001b[1;33m\u001b[0m\u001b[1;33m\u001b[0m\u001b[0m\n",
      "\u001b[1;32m~\\anaconda3\\envs\\shan\\lib\\site-packages\\matplotlib\\axis.py\u001b[0m in \u001b[0;36m_set_ticklabels\u001b[1;34m(self, labels, fontdict, minor, **kwargs)\u001b[0m\n\u001b[0;32m   1796\u001b[0m         \u001b[1;32mif\u001b[0m \u001b[0mfontdict\u001b[0m \u001b[1;32mis\u001b[0m \u001b[1;32mnot\u001b[0m \u001b[1;32mNone\u001b[0m\u001b[1;33m:\u001b[0m\u001b[1;33m\u001b[0m\u001b[1;33m\u001b[0m\u001b[0m\n\u001b[0;32m   1797\u001b[0m             \u001b[0mkwargs\u001b[0m\u001b[1;33m.\u001b[0m\u001b[0mupdate\u001b[0m\u001b[1;33m(\u001b[0m\u001b[0mfontdict\u001b[0m\u001b[1;33m)\u001b[0m\u001b[1;33m\u001b[0m\u001b[1;33m\u001b[0m\u001b[0m\n\u001b[1;32m-> 1798\u001b[1;33m         \u001b[1;32mreturn\u001b[0m \u001b[0mself\u001b[0m\u001b[1;33m.\u001b[0m\u001b[0mset_ticklabels\u001b[0m\u001b[1;33m(\u001b[0m\u001b[0mlabels\u001b[0m\u001b[1;33m,\u001b[0m \u001b[0mminor\u001b[0m\u001b[1;33m=\u001b[0m\u001b[0mminor\u001b[0m\u001b[1;33m,\u001b[0m \u001b[1;33m**\u001b[0m\u001b[0mkwargs\u001b[0m\u001b[1;33m)\u001b[0m\u001b[1;33m\u001b[0m\u001b[1;33m\u001b[0m\u001b[0m\n\u001b[0m\u001b[0;32m   1799\u001b[0m \u001b[1;33m\u001b[0m\u001b[0m\n\u001b[0;32m   1800\u001b[0m     \u001b[1;32mdef\u001b[0m \u001b[0m_set_tick_locations\u001b[0m\u001b[1;33m(\u001b[0m\u001b[0mself\u001b[0m\u001b[1;33m,\u001b[0m \u001b[0mticks\u001b[0m\u001b[1;33m,\u001b[0m \u001b[1;33m*\u001b[0m\u001b[1;33m,\u001b[0m \u001b[0mminor\u001b[0m\u001b[1;33m=\u001b[0m\u001b[1;32mFalse\u001b[0m\u001b[1;33m)\u001b[0m\u001b[1;33m:\u001b[0m\u001b[1;33m\u001b[0m\u001b[1;33m\u001b[0m\u001b[0m\n",
      "\u001b[1;32m~\\anaconda3\\envs\\shan\\lib\\site-packages\\matplotlib\\axis.py\u001b[0m in \u001b[0;36mset_ticklabels\u001b[1;34m(self, ticklabels, minor, **kwargs)\u001b[0m\n\u001b[0;32m   1719\u001b[0m             \u001b[1;32mif\u001b[0m \u001b[0mlen\u001b[0m\u001b[1;33m(\u001b[0m\u001b[0mlocator\u001b[0m\u001b[1;33m.\u001b[0m\u001b[0mlocs\u001b[0m\u001b[1;33m)\u001b[0m \u001b[1;33m!=\u001b[0m \u001b[0mlen\u001b[0m\u001b[1;33m(\u001b[0m\u001b[0mticklabels\u001b[0m\u001b[1;33m)\u001b[0m \u001b[1;32mand\u001b[0m \u001b[0mlen\u001b[0m\u001b[1;33m(\u001b[0m\u001b[0mticklabels\u001b[0m\u001b[1;33m)\u001b[0m \u001b[1;33m!=\u001b[0m \u001b[1;36m0\u001b[0m\u001b[1;33m:\u001b[0m\u001b[1;33m\u001b[0m\u001b[1;33m\u001b[0m\u001b[0m\n\u001b[0;32m   1720\u001b[0m                 raise ValueError(\n\u001b[1;32m-> 1721\u001b[1;33m                     \u001b[1;34m\"The number of FixedLocator locations\"\u001b[0m\u001b[1;33m\u001b[0m\u001b[1;33m\u001b[0m\u001b[0m\n\u001b[0m\u001b[0;32m   1722\u001b[0m                     \u001b[1;34mf\" ({len(locator.locs)}), usually from a call to\"\u001b[0m\u001b[1;33m\u001b[0m\u001b[1;33m\u001b[0m\u001b[0m\n\u001b[0;32m   1723\u001b[0m                     \u001b[1;34m\" set_ticks, does not match\"\u001b[0m\u001b[1;33m\u001b[0m\u001b[1;33m\u001b[0m\u001b[0m\n",
      "\u001b[1;31mValueError\u001b[0m: The number of FixedLocator locations (2), usually from a call to set_ticks, does not match the number of ticklabels (3)."
     ]
    },
    {
     "data": {
      "image/png": "[encoded data removed]",
      "text/plain": [
       "<Figure size 640x480 with 2 Axes>"
      ]
     },
     "metadata": {},
     "output_type": "display_data"
    }
   ],
   "source": [
    "import numpy as np\n",
    "from sklearn.metrics import confusion_matrix\n",
    "from sklearn.utils.multiclass import unique_labels\n",
    "import matplotlib.pyplot as plt\n",
    "\n",
    "# Generate predictions and compute the confusion matrix\n",
    "Y_pred = model.predict(val_generator)\n",
    "y_pred = np.argmax(Y_pred, axis=1)\n",
    "cm = confusion_matrix(val_generator.classes, y_pred)\n",
    "\n",
    "# Define class labels\n",
    "class_names = ['braintumour', 'Notumour']\n",
    "\n",
    "# Plot the confusion matrix\n",
    "fig, ax = plt.subplots()\n",
    "im = ax.imshow(cm, interpolation='nearest', cmap=plt.cm.Blues)\n",
    "ax.figure.colorbar(im, ax=ax)\n",
    "# Set the x-axis and y-axis labels\n",
    "ax.set(xticks=np.arange(cm.shape[1]),\n",
    "       yticks=np.arange(cm.shape[0]),\n",
    "       xticklabels=class_names, yticklabels=class_names,\n",
    "       xlabel='Predicted label', ylabel='True label')\n",
    "# Rotate the x-axis labels to vertical orientation\n",
    "plt.setp(ax.get_xticklabels(), rotation=90, ha=\"right\",\n",
    "         rotation_mode=\"anchor\")\n",
    "# Loop over the data and annotate each cell with its value\n",
    "for i in range(cm.shape[0]):\n",
    "    for j in range(cm.shape[1]):\n",
    "        ax.text(j, i, format(cm[i, j], 'd'),\n",
    "                ha=\"center\", va=\"center\",\n",
    "                color=\"white\" if cm[i, j] > cm.max() / 2. else \"black\")\n",
    "# Add a title to the plot\n",
    "ax.set_title(\"Confusion matrix\")\n",
    "fig.tight_layout()\n",
    "plt.show()\n"
   ]
  },
  {
   "cell_type": "code",
   "execution_count": null,
   "metadata": {},
   "outputs": [],
   "source": [
    "from sklearn.metrics import classification_report\n",
    "\n",
    "# Generate predictions\n",
    "Y_pred = model.predict(val_generator)\n",
    "y_pred = np.argmax(Y_pred, axis=1)\n",
    "\n",
    "# Get the class labels\n",
    "class_labels = list(val_generator.class_indices.keys())\n",
    "\n",
    "# Generate the classification report\n",
    "report = classification_report(val_generator.classes, y_pred, target_names=class_labels)\n",
    "print(report)\n"
   ]
  },
  {
   "cell_type": "code",
   "execution_count": null,
   "metadata": {},
   "outputs": [],
   "source": [
    "# Get the class labels\n",
    "class_labels = list(val_generator.class_indices.keys())\n",
    "\n",
    "# Get the class-wise accuracy values\n",
    "class_wise_accuracy = cm.diagonal() / cm.sum(axis=1)\n",
    "\n",
    "# Create a bar chart\n",
    "plt.bar(class_labels, class_wise_accuracy)\n",
    "plt.title('Accuracy by Class')\n",
    "plt.xlabel('Class')\n",
    "plt.ylabel('Accuracy')\n",
    "plt.show()\n"
   ]
  },
  {
   "cell_type": "code",
   "execution_count": null,
   "metadata": {},
   "outputs": [],
   "source": [
    "# Evaluate the model on the validation data\n",
    "_, accuracy = model.evaluate(val_generator)\n",
    "\n",
    "# Print the validation accuracy\n",
    "print('Validation Accuracy: %.2f' % (accuracy*100))\n"
   ]
  },
  {
   "cell_type": "code",
   "execution_count": null,
   "metadata": {},
   "outputs": [],
   "source": [
    "# Get the accuracy from the history object\n",
    "accuracy = history.history['acc'][-1]\n",
    "\n",
    "# Print the accuracy to the console\n",
    "print(\"Accuracy: {:.2f}%\".format(accuracy * 100))"
   ]
  },
  {
   "cell_type": "code",
   "execution_count": null,
   "metadata": {},
   "outputs": [],
   "source": []
  }
 ],
 "metadata": {
  "kernelspec": {
   "display_name": "Python 3 (ipykernel)",
   "language": "python",
   "name": "python3"
  },
  "language_info": {
   "codemirror_mode": {
    "name": "ipython",
    "version": 3
   },
   "file_extension": ".py",
   "mimetype": "text/x-python",
   "name": "python",
   "nbconvert_exporter": "python",
   "pygments_lexer": "ipython3",
   "version": "3.7.9"
  }
 },
 "nbformat": 4,
 "nbformat_minor": 2
}
